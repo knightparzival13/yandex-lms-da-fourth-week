{
 "cells": [
  {
   "cell_type": "code",
   "execution_count": null,
   "id": "60565be2-e8c5-4d7a-9e70-1fe7f8b07eaf",
   "metadata": {},
   "outputs": [],
   "source": [
    "ПЕРВАЯ ЗАДАЧА"
   ]
  },
  {
   "cell_type": "code",
   "execution_count": null,
   "id": "888f15bb-b2a4-4893-bc1a-8a7eba512e4e",
   "metadata": {},
   "outputs": [],
   "source": [
    "import pandas as pd\n",
    "import math\n",
    "import warnings\n",
    "\n",
    "warnings.filterwarnings(\"ignore\")\n",
    "\n",
    "df = pd.read_csv(\"data.csv\", decimal=',', sep=';')\n",
    "df.columns = [x.lower().replace(\" \", \"_\") for x in df.columns]\n",
    "\n",
    "humans = df['число_опрошенных'][0]\n",
    "p = df['доля_ответов'][0]\n",
    "z = df['доверительный_уровень'][0]\n",
    "\n",
    "h = math.sqrt(((z ** 2) * p * (1 - p)) / humans)\n",
    "\n",
    "first = round(p - h, 2)\n",
    "second = round(p + h, 2)\n",
    "\n",
    "print(first, second)"
   ]
  },
  {
   "cell_type": "code",
   "execution_count": null,
   "id": "5c797e11-4526-4ff4-b645-4f07fcd04f66",
   "metadata": {},
   "outputs": [],
   "source": [
    "ВТОРАЯ ЗАДАЧА"
   ]
  },
  {
   "cell_type": "code",
   "execution_count": 30,
   "id": "080b491d-61b8-48c2-a24c-6b23ef3e642d",
   "metadata": {},
   "outputs": [
    {
     "name": "stdout",
     "output_type": "stream",
     "text": [
      "49.74 64.55\n"
     ]
    }
   ],
   "source": [
    "import pandas as pd\n",
    "import math\n",
    "import warnings\n",
    "\n",
    "warnings.filterwarnings(\"ignore\")\n",
    "\n",
    "df = pd.read_csv(\"avto_2.csv\", encoding='ANSI', decimal=',', sep=';')\n",
    "df.columns = [x.lower().replace(\" \", \"_\") for x in df.columns]\n",
    "\n",
    "n = 200\n",
    "N = 1200\n",
    "z = 1.96\n",
    "\n",
    "df['пробег1'] = df['пробег'].apply(lambda x: x if x > 140 else None)\n",
    "\n",
    "p = df['пробег1'].count() / df['пробег'].count()\n",
    "n_strih = (n * N) / (N + n - 1)\n",
    "\n",
    "H = z * math.sqrt(p * (1 - p) / n_strih)\n",
    "\n",
    "first = round((p - H) * 100, 2)\n",
    "second = round((p + H) * 100, 2)\n",
    "\n",
    "print(first, second)\n"
   ]
  },
  {
   "cell_type": "code",
   "execution_count": null,
   "id": "cc7a3367-ec81-4a74-814d-ed53e24a4f69",
   "metadata": {},
   "outputs": [],
   "source": [
    "ТРЕТЬЯ ЗАДАЧА"
   ]
  },
  {
   "cell_type": "code",
   "execution_count": 37,
   "id": "39c3c2b2-0cd0-4c3d-8e29-4989c1acdb94",
   "metadata": {},
   "outputs": [
    {
     "name": "stdout",
     "output_type": "stream",
     "text": [
      "1694\n"
     ]
    }
   ],
   "source": [
    "import pandas as pd\n",
    "import numpy as np\n",
    "import math\n",
    "import warnings\n",
    "\n",
    "warnings.filterwarnings(\"ignore\")\n",
    "\n",
    "df = pd.read_csv(\"chocol_3.csv\", \n",
    "                 encoding='ANSI', \n",
    "                 sep=';', \n",
    "                 na_values=np.nan, \n",
    "                 skip_blank_lines=True).dropna()\n",
    "\n",
    "df.columns = [x.lower().replace(\" \", \"_\") for x in df.columns]\n",
    "\n",
    "df = df[df[\"название\"] == \"полёт\"]\n",
    "\n",
    "q1 = df[\"вес_шоколадки\"].quantile(0.01)\n",
    "q3 = df[\"вес_шоколадки\"].quantile(0.99)\n",
    "iqr = q3 - q1\n",
    "\n",
    "df = df[(df[\"вес_шоколадки\"] > q1) & (df[\"вес_шоколадки\"] < q3)]\n",
    "\n",
    "std_2 = df[\"вес_шоколадки\"].std() ** 2\n",
    "z = 1.96\n",
    "h = 1\n",
    "n = (z * std_2 / h) ** 2\n",
    "\n",
    "print(round(n))\n"
   ]
  },
  {
   "cell_type": "markdown",
   "id": "a9ff2a80-faa5-4f0b-a01d-b005836d2d14",
   "metadata": {},
   "source": [
    "ЧЕТВЕРТАЯ ЗАДАЧА"
   ]
  },
  {
   "cell_type": "code",
   "execution_count": null,
   "id": "e4c8ccc8-7848-4f24-9993-0b191e0ebbbe",
   "metadata": {},
   "outputs": [],
   "source": [
    "import pandas as pd\n",
    "import numpy as np\n",
    "\n",
    "N = []\n",
    "H = []\n",
    "\n",
    "for h in np.arange(0.01, 0.1, 0.01):\n",
    "    N.append(int((1.96 * np.sqrt(0.5 * (1 - 0.5)) / h) ** 2))\n",
    "    H.append(int(round(h * 100)))\n",
    "\n",
    "print(pd.DataFrame({'допустимая_ошибка': H, 'размер_выборки': N}))\n"
   ]
  },
  {
   "cell_type": "code",
   "execution_count": null,
   "id": "6fd4e7e3-9b44-475e-a21e-e0011a144483",
   "metadata": {},
   "outputs": [],
   "source": [
    "ПЯТАЯ ЗАДАЧА"
   ]
  },
  {
   "cell_type": "code",
   "execution_count": 3,
   "id": "a97d8101-f018-4073-a6f0-88ca99b29e21",
   "metadata": {},
   "outputs": [
    {
     "name": "stdout",
     "output_type": "stream",
     "text": [
      "0.109 , 2595\n"
     ]
    }
   ],
   "source": [
    "import pandas as pd\n",
    "import math\n",
    "import warnings\n",
    "\n",
    "warnings.filterwarnings(\"ignore\")\n",
    "\n",
    "df = pd.read_csv(\"cake_5.csv\", encoding='ANSI', decimal=',', sep=';')\n",
    "df.columns = [x.lower().replace(\" \", \"_\") for x in df.columns]\n",
    "\n",
    "new_df = df['вес_шоколадки'].apply(\n",
    "    lambda x: x if x >= 100 else None).dropna()\n",
    "\n",
    "Z = 1.96\n",
    "N = 8000\n",
    "n = new_df.count()\n",
    "p = new_df.count() / df.count()\n",
    "\n",
    "H = round(Z * (p * (1 - p) * (N + n - 1) / (n * N)) ** 0.5, 3)\n",
    "new_H = round(H / 5, 3)\n",
    "\n",
    "K = (Z ** 2 * p * (1 - p)) / (new_H ** 2 * N)\n",
    "\n",
    "print(f\"{H[0]} , {int(round(K * (N - 1) / (1 - K)))}\")\n"
   ]
  },
  {
   "cell_type": "code",
   "execution_count": null,
   "id": "47f8fda0-1a7c-43b4-801e-3843f9f28647",
   "metadata": {},
   "outputs": [],
   "source": [
    "ШЕСТАЯ ЗАДАЧА"
   ]
  },
  {
   "cell_type": "code",
   "execution_count": 34,
   "id": "9247562c-7139-4f06-88ea-b839ce08d8c1",
   "metadata": {},
   "outputs": [
    {
     "name": "stdin",
     "output_type": "stream",
     "text": [
      " Снизилась\n"
     ]
    },
    {
     "data": {
      "image/png": "[encoded data removed]",
      "text/plain": [
       "<Figure size 900x300 with 2 Axes>"
      ]
     },
     "metadata": {},
     "output_type": "display_data"
    },
    {
     "data": {
      "text/plain": [
       "<Figure size 640x480 with 0 Axes>"
      ]
     },
     "metadata": {},
     "output_type": "display_data"
    }
   ],
   "source": [
    "import pandas as pd\n",
    "import seaborn as sns\n",
    "import warnings\n",
    "import matplotlib.pyplot as plt\n",
    "\n",
    "warnings.filterwarnings(\"ignore\")\n",
    "\n",
    "df = pd.DataFrame(\n",
    "    {\n",
    "        'покупательская_активность': [\n",
    "            'Снизилась',\n",
    "            'Снизилась',\n",
    "            'Снизилась',\n",
    "            'Снизилась',\n",
    "            'Прежний уровень',\n",
    "            'Прежний уровень',\n",
    "            'Прежний уровень',\n",
    "            'Прежний уровень',\n",
    "        ],\n",
    "        'выручка_от_клиента_текущий_месяц': [\n",
    "            4425,\n",
    "            4472,\n",
    "            4826,\n",
    "            4793,\n",
    "            4594,\n",
    "            4506,\n",
    "            4503,\n",
    "            4749,\n",
    "        ]\n",
    "    }\n",
    ")\n",
    "\n",
    "df.columns = [x.lower().replace(\" \", \"_\") for x in df.columns]\n",
    "\n",
    "# Выбор категории для построения графиков\n",
    "category = input()\n",
    "\n",
    "\n",
    "def plot_histogram_boxplot(category):\n",
    "    \n",
    "    selected_data = df[df['покупательская_активность'] == category].reset_index(drop=True)\n",
    "    \n",
    "    fig, axs = plt.subplots(ncols=2, figsize=(9, 3))\n",
    "    \n",
    "    sns.histplot(x='выручка_от_клиента_текущий_месяц', \n",
    "                 data=selected_data,\n",
    "                 ax=axs[0], \n",
    "                 bins=30, \n",
    "                 kde=True)\n",
    "    sns.boxplot(y='выручка_от_клиента_текущий_месяц', \n",
    "                data=selected_data, \n",
    "                ax=axs[1])\n",
    "    \n",
    "    axs[0].set_xlabel('')\n",
    "    axs[0].set_ylabel('')\n",
    "    axs[1].set_xlabel('')\n",
    "    axs[1].set_ylabel('')\n",
    "    \n",
    "    plt.suptitle('Гистограмма и ящик с усами для количественных данных')\n",
    "    plt.show()\n",
    "    plt.savefig('target_4_6.png')\n",
    "\n",
    "\n",
    "# Построение графиков\n",
    "plot_histogram_boxplot(category)\n",
    "\n"
   ]
  },
  {
   "cell_type": "code",
   "execution_count": null,
   "id": "1ba3951a-e0d0-42fc-ab5a-ab67a249e159",
   "metadata": {},
   "outputs": [],
   "source": []
  }
 ],
 "metadata": {
  "kernelspec": {
   "display_name": "Python 3 (ipykernel)",
   "language": "python",
   "name": "python3"
  },
  "language_info": {
   "codemirror_mode": {
    "name": "ipython",
    "version": 3
   },
   "file_extension": ".py",
   "mimetype": "text/x-python",
   "name": "python",
   "nbconvert_exporter": "python",
   "pygments_lexer": "ipython3",
   "version": "3.12.1"
  }
 },
 "nbformat": 4,
 "nbformat_minor": 5
}
